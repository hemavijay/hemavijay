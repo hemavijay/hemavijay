{
 "cells": [
  {
   "cell_type": "markdown",
   "id": "006f17cc",
   "metadata": {},
   "source": [
    "# Import all required libraries"
   ]
  },
  {
   "cell_type": "code",
   "execution_count": 1,
   "id": "bf073fec",
   "metadata": {},
   "outputs": [],
   "source": [
    "import pandas as pd\n",
    "import numpy as np\n",
    "import matplotlib.pyplot as plt\n",
    "import seaborn as sns\n",
    "\n",
    "from sklearn.model_selection import train_test_split\n",
    "from sklearn.preprocessing import StandardScaler\n",
    "from sklearn.linear_model import LinearRegression\n",
    "from sklearn.linear_model import LogisticRegression\n",
    "\n",
    "from sklearn.model_selection import KFold\n",
    "from sklearn.model_selection import cross_val_score\n",
    "\n",
    "from sklearn import metrics\n",
    "import statsmodels.api as sm\n",
    "\n",
    "from pandas.plotting import scatter_matrix\n",
    "\n",
    "import sys\n",
    "import warnings\n",
    "%matplotlib inline\n",
    "\n",
    "if not sys.warnoptions:\n",
    "    warnings.simplefilter('ignore')"
   ]
  },
  {
   "cell_type": "markdown",
   "id": "084cc6a7",
   "metadata": {},
   "source": [
    "# Load the Data"
   ]
  },
  {
   "cell_type": "code",
   "execution_count": 2,
   "id": "3e0b6dc8",
   "metadata": {},
   "outputs": [],
   "source": [
    "salary_dataset= pd.read_csv('Salaries.csv')"
   ]
  },
  {
   "cell_type": "code",
   "execution_count": null,
   "id": "159424d8",
   "metadata": {},
   "outputs": [],
   "source": [
    "# describe the dataset\n",
    "salary_dataset.describe()"
   ]
  },
  {
   "cell_type": "code",
   "execution_count": null,
   "id": "16f886aa",
   "metadata": {},
   "outputs": [],
   "source": [
    "# salary dataset information to find the columns and count of the data\n",
    "\n",
    "salary_dataset.info()"
   ]
  },
  {
   "cell_type": "code",
   "execution_count": null,
   "id": "38a7294b",
   "metadata": {},
   "outputs": [],
   "source": [
    "# count the number of missing values for each feature\n",
    "\n",
    "salary_dataset.isnull().sum()"
   ]
  },
  {
   "cell_type": "code",
   "execution_count": 6,
   "id": "cdbbd933",
   "metadata": {},
   "outputs": [
    {
     "data": {
      "text/html": [
       "<div>\n",
       "<style scoped>\n",
       "    .dataframe tbody tr th:only-of-type {\n",
       "        vertical-align: middle;\n",
       "    }\n",
       "\n",
       "    .dataframe tbody tr th {\n",
       "        vertical-align: top;\n",
       "    }\n",
       "\n",
       "    .dataframe thead th {\n",
       "        text-align: right;\n",
       "    }\n",
       "</style>\n",
       "<table border=\"1\" class=\"dataframe\">\n",
       "  <thead>\n",
       "    <tr style=\"text-align: right;\">\n",
       "      <th></th>\n",
       "      <th>rank</th>\n",
       "      <th>discipline</th>\n",
       "      <th>yrs.since.phd</th>\n",
       "      <th>yrs.service</th>\n",
       "      <th>sex</th>\n",
       "      <th>salary</th>\n",
       "    </tr>\n",
       "  </thead>\n",
       "  <tbody>\n",
       "    <tr>\n",
       "      <th>0</th>\n",
       "      <td>Prof</td>\n",
       "      <td>B</td>\n",
       "      <td>19</td>\n",
       "      <td>18</td>\n",
       "      <td>Male</td>\n",
       "      <td>139750</td>\n",
       "    </tr>\n",
       "    <tr>\n",
       "      <th>1</th>\n",
       "      <td>Prof</td>\n",
       "      <td>B</td>\n",
       "      <td>20</td>\n",
       "      <td>16</td>\n",
       "      <td>Male</td>\n",
       "      <td>173200</td>\n",
       "    </tr>\n",
       "    <tr>\n",
       "      <th>2</th>\n",
       "      <td>AsstProf</td>\n",
       "      <td>B</td>\n",
       "      <td>4</td>\n",
       "      <td>3</td>\n",
       "      <td>Male</td>\n",
       "      <td>79750</td>\n",
       "    </tr>\n",
       "    <tr>\n",
       "      <th>3</th>\n",
       "      <td>Prof</td>\n",
       "      <td>B</td>\n",
       "      <td>45</td>\n",
       "      <td>39</td>\n",
       "      <td>Male</td>\n",
       "      <td>115000</td>\n",
       "    </tr>\n",
       "    <tr>\n",
       "      <th>4</th>\n",
       "      <td>Prof</td>\n",
       "      <td>B</td>\n",
       "      <td>40</td>\n",
       "      <td>41</td>\n",
       "      <td>Male</td>\n",
       "      <td>141500</td>\n",
       "    </tr>\n",
       "    <tr>\n",
       "      <th>...</th>\n",
       "      <td>...</td>\n",
       "      <td>...</td>\n",
       "      <td>...</td>\n",
       "      <td>...</td>\n",
       "      <td>...</td>\n",
       "      <td>...</td>\n",
       "    </tr>\n",
       "    <tr>\n",
       "      <th>392</th>\n",
       "      <td>Prof</td>\n",
       "      <td>A</td>\n",
       "      <td>33</td>\n",
       "      <td>30</td>\n",
       "      <td>Male</td>\n",
       "      <td>103106</td>\n",
       "    </tr>\n",
       "    <tr>\n",
       "      <th>393</th>\n",
       "      <td>Prof</td>\n",
       "      <td>A</td>\n",
       "      <td>31</td>\n",
       "      <td>19</td>\n",
       "      <td>Male</td>\n",
       "      <td>150564</td>\n",
       "    </tr>\n",
       "    <tr>\n",
       "      <th>394</th>\n",
       "      <td>Prof</td>\n",
       "      <td>A</td>\n",
       "      <td>42</td>\n",
       "      <td>25</td>\n",
       "      <td>Male</td>\n",
       "      <td>101738</td>\n",
       "    </tr>\n",
       "    <tr>\n",
       "      <th>395</th>\n",
       "      <td>Prof</td>\n",
       "      <td>A</td>\n",
       "      <td>25</td>\n",
       "      <td>15</td>\n",
       "      <td>Male</td>\n",
       "      <td>95329</td>\n",
       "    </tr>\n",
       "    <tr>\n",
       "      <th>396</th>\n",
       "      <td>AsstProf</td>\n",
       "      <td>A</td>\n",
       "      <td>8</td>\n",
       "      <td>4</td>\n",
       "      <td>Male</td>\n",
       "      <td>81035</td>\n",
       "    </tr>\n",
       "  </tbody>\n",
       "</table>\n",
       "<p>397 rows × 6 columns</p>\n",
       "</div>"
      ],
      "text/plain": [
       "         rank discipline  yrs.since.phd  yrs.service   sex  salary\n",
       "0        Prof          B             19           18  Male  139750\n",
       "1        Prof          B             20           16  Male  173200\n",
       "2    AsstProf          B              4            3  Male   79750\n",
       "3        Prof          B             45           39  Male  115000\n",
       "4        Prof          B             40           41  Male  141500\n",
       "..        ...        ...            ...          ...   ...     ...\n",
       "392      Prof          A             33           30  Male  103106\n",
       "393      Prof          A             31           19  Male  150564\n",
       "394      Prof          A             42           25  Male  101738\n",
       "395      Prof          A             25           15  Male   95329\n",
       "396  AsstProf          A              8            4  Male   81035\n",
       "\n",
       "[397 rows x 6 columns]"
      ]
     },
     "execution_count": 6,
     "metadata": {},
     "output_type": "execute_result"
    }
   ],
   "source": [
    "#creating the dataframe from the given dataset\n",
    "\n",
    "df=pd.DataFrame(salary_dataset)\n",
    "df"
   ]
  },
  {
   "cell_type": "code",
   "execution_count": 7,
   "id": "5a04a7c8",
   "metadata": {},
   "outputs": [
    {
     "data": {
      "text/plain": [
       "Index(['rank', 'discipline', 'yrs.since.phd', 'yrs.service', 'sex', 'salary'], dtype='object')"
      ]
     },
     "execution_count": 7,
     "metadata": {},
     "output_type": "execute_result"
    }
   ],
   "source": [
    "df.columns"
   ]
  },
  {
   "cell_type": "code",
   "execution_count": 8,
   "id": "75d04988",
   "metadata": {},
   "outputs": [
    {
     "data": {
      "text/plain": [
       "Index(['rank', 'discipline', 'yrs since phd', 'yrs service', 'sex', 'salary'], dtype='object')"
      ]
     },
     "execution_count": 8,
     "metadata": {},
     "output_type": "execute_result"
    }
   ],
   "source": [
    "#replacing some special character columns with proper name\n",
    "df.rename(columns={'yrs.since.phd':'yrs since phd','yrs.service':'yrs service'},inplace=True)\n",
    "df.columns"
   ]
  },
  {
   "cell_type": "code",
   "execution_count": 9,
   "id": "82071765",
   "metadata": {},
   "outputs": [
    {
     "data": {
      "text/plain": [
       "rank             0\n",
       "discipline       0\n",
       "yrs since phd    0\n",
       "yrs service      0\n",
       "sex              0\n",
       "salary           0\n",
       "dtype: int64"
      ]
     },
     "execution_count": 9,
     "metadata": {},
     "output_type": "execute_result"
    }
   ],
   "source": [
    "#finding the special characters in the data frame\n",
    "\n",
    "df.isin(['?']).sum(axis=0)"
   ]
  },
  {
   "cell_type": "code",
   "execution_count": 10,
   "id": "5e051424",
   "metadata": {},
   "outputs": [
    {
     "data": {
      "text/plain": [
       "Index(['rank', 'discipline', 'yrs since phd', 'yrs service', 'sex', 'salary'], dtype='object')"
      ]
     },
     "execution_count": 10,
     "metadata": {},
     "output_type": "execute_result"
    }
   ],
   "source": [
    "#assigning the dataset to a train data set \n",
    "train_data=[salary_dataset]\n",
    "df.columns"
   ]
  },
  {
   "cell_type": "code",
   "execution_count": 11,
   "id": "21129ca8",
   "metadata": {},
   "outputs": [
    {
     "name": "stdout",
     "output_type": "stream",
     "text": [
      "----rank----\n",
      "Prof         266\n",
      "AsstProf      67\n",
      "AssocProf     64\n",
      "Name: rank, dtype: int64\n",
      "----discipline----\n",
      "B    216\n",
      "A    181\n",
      "Name: discipline, dtype: int64\n",
      "----yrs since phd----\n",
      "4     19\n",
      "28    16\n",
      "8     14\n",
      "20    13\n",
      "19    13\n",
      "13    12\n",
      "17    12\n",
      "12    12\n",
      "38    11\n",
      "23    11\n",
      "21    11\n",
      "39    10\n",
      "10    10\n",
      "11    10\n",
      "31    10\n",
      "30     9\n",
      "22     9\n",
      "15     9\n",
      "14     9\n",
      "9      9\n",
      "25     9\n",
      "33     8\n",
      "35     8\n",
      "37     8\n",
      "29     8\n",
      "27     8\n",
      "18     8\n",
      "16     8\n",
      "3      8\n",
      "40     7\n",
      "26     6\n",
      "24     6\n",
      "32     6\n",
      "7      6\n",
      "6      6\n",
      "5      6\n",
      "45     6\n",
      "2      5\n",
      "43     5\n",
      "36     5\n",
      "49     4\n",
      "46     4\n",
      "1      4\n",
      "42     4\n",
      "41     4\n",
      "34     3\n",
      "56     2\n",
      "44     1\n",
      "47     1\n",
      "48     1\n",
      "51     1\n",
      "52     1\n",
      "54     1\n",
      "Name: yrs since phd, dtype: int64\n",
      "----yrs service----\n",
      "3     22\n",
      "19    19\n",
      "7     18\n",
      "8     18\n",
      "23    16\n",
      "18    15\n",
      "2     15\n",
      "9     15\n",
      "11    14\n",
      "4     13\n",
      "1     13\n",
      "0     11\n",
      "27    11\n",
      "6     11\n",
      "10    11\n",
      "20    10\n",
      "31    10\n",
      "30     9\n",
      "15     9\n",
      "28     9\n",
      "16     8\n",
      "14     8\n",
      "22     8\n",
      "38     8\n",
      "5      8\n",
      "25     8\n",
      "26     7\n",
      "17     6\n",
      "36     6\n",
      "21     6\n",
      "40     5\n",
      "35     5\n",
      "12     5\n",
      "39     4\n",
      "45     4\n",
      "33     4\n",
      "43     4\n",
      "37     4\n",
      "49     3\n",
      "44     3\n",
      "24     2\n",
      "34     2\n",
      "41     1\n",
      "32     1\n",
      "13     1\n",
      "46     1\n",
      "48     1\n",
      "29     1\n",
      "51     1\n",
      "53     1\n",
      "57     1\n",
      "60     1\n",
      "Name: yrs service, dtype: int64\n",
      "----sex----\n",
      "Male      358\n",
      "Female     39\n",
      "Name: sex, dtype: int64\n",
      "----salary----\n",
      "92000     5\n",
      "72500     4\n",
      "74000     4\n",
      "101000    3\n",
      "105000    3\n",
      "         ..\n",
      "107986    1\n",
      "166024    1\n",
      "102580    1\n",
      "82099     1\n",
      "121200    1\n",
      "Name: salary, Length: 371, dtype: int64\n"
     ]
    }
   ],
   "source": [
    "#running a loop for value_counts of each column to find out the unique values\n",
    "\n",
    "for c in df.columns:\n",
    "    print('----%s----' %c)\n",
    "    print(df[c].value_counts())"
   ]
  },
  {
   "cell_type": "code",
   "execution_count": 12,
   "id": "699df185",
   "metadata": {},
   "outputs": [],
   "source": [
    "#let us see how many unique categories we have in this property\n",
    "\n",
    "salary=set(df['salary'])"
   ]
  },
  {
   "cell_type": "code",
   "execution_count": 13,
   "id": "a9e9470f",
   "metadata": {},
   "outputs": [
    {
     "name": "stdout",
     "output_type": "stream",
     "text": [
      "{170000, 151575, 84000, 79916, 112696, 69700, 73800, 122960, 86100, 114778, 104542, 133217, 151650, 137317, 155750, 90215, 88175, 106608, 231545, 127100, 131205, 166024, 94350, 106639, 73877, 153750, 100522, 78000, 94384, 82099, 102580, 82100, 118971, 141500, 90304, 106689, 102600, 98510, 151768, 155865, 75996, 92391, 119015, 86250, 172272, 194800, 100600, 125192, 80139, 125196, 84240, 74000, 96545, 84273, 147765, 115000, 108875, 88400, 78162, 90450, 104800, 80225, 86373, 96614, 162150, 78182, 70000, 121200, 176500, 92550, 162200, 63900, 117150, 135585, 174500, 113068, 162221, 109000, 57800, 82379, 119250, 172505, 139750, 193000, 150000, 107008, 170500, 117256, 84500, 127512, 88600, 92700, 105000, 168500, 111168, 129600, 133700, 143940, 100938, 88650, 100944, 146000, 186960, 107100, 72300, 115313, 113278, 88709, 101000, 129676, 107150, 160400, 119450, 78500, 105128, 82600, 101036, 144050, 99000, 168635, 205500, 113341, 107200, 103106, 142023, 119500, 166605, 88795, 97000, 115435, 101100, 84716, 113398, 111350, 88825, 109305, 74500, 97032, 117515, 133900, 138000, 123683, 107300, 105260, 107309, 117555, 68404, 72500, 140096, 136000, 93000, 101210, 95079, 150376, 103275, 131950, 86895, 134000, 91000, 97150, 105350, 113543, 166800, 119700, 175000, 111512, 132000, 99247, 101299, 152500, 144309, 113600, 78785, 74692, 117704, 150480, 91100, 189409, 150500, 105450, 93164, 107500, 97262, 119800, 85000, 181257, 140300, 148500, 103450, 107550, 150564, 76840, 134185, 70700, 126000, 83000, 83001, 146500, 74830, 109646, 109650, 152664, 115800, 99418, 91227, 121946, 95329, 74856, 70768, 142467, 152708, 111751, 165000, 109707, 81035, 173200, 128148, 150680, 105631, 91300, 132261, 142500, 95408, 103600, 103613, 120000, 105668, 77000, 95436, 150743, 109785, 204000, 103649, 93418, 122100, 126200, 128250, 144640, 156938, 144651, 148750, 91412, 103700, 77081, 75044, 73000, 136500, 148800, 103750, 161101, 93519, 103760, 114000, 126300, 101738, 126320, 146800, 167284, 95611, 163200, 109954, 81285, 128400, 77202, 124309, 134550, 124312, 71065, 95642, 105890, 62884, 146856, 89516, 118223, 128464, 107986, 136660, 89565, 126431, 75243, 183800, 138771, 122400, 134690, 73266, 89650, 103994, 108100, 69200, 73300, 81500, 130664, 145000, 102000, 134778, 63100, 122500, 145028, 134800, 83600, 114330, 126621, 100000, 186023, 108200, 104121, 77500, 145098, 93904, 153303, 132825, 116450, 134885, 108262, 106231, 87800, 151292, 192253, 98053, 100102, 73500, 180000, 128800, 100131, 81700, 116518, 100135, 137000, 124714, 112429, 145200, 106294, 106300, 114500, 124750, 141136, 89942, 104279, 102235, 92000, 155500, 135027, 108413, 77700, 79750, 81800, 83850, 90000, 98193, 143250, 92050, 147349, 151445, 104350, 114596, 118700, 110515, 79800, 83900, 88000, 145350, 96200, 137167, 139219, 126933, 120806, 67559, 129000, 104428, 122875, 100351}\n"
     ]
    }
   ],
   "source": [
    "print(salary)"
   ]
  },
  {
   "cell_type": "code",
   "execution_count": 14,
   "id": "a2855bcd",
   "metadata": {},
   "outputs": [],
   "source": [
    "#mapping the data into numerical data using map function\n",
    "\n",
    "#df['salary']=df['salary'].map({'<60K':0,'>60K':1}).astype(int)"
   ]
  },
  {
   "cell_type": "code",
   "execution_count": 15,
   "id": "3f521a73",
   "metadata": {},
   "outputs": [
    {
     "name": "stdout",
     "output_type": "stream",
     "text": [
      "{'Female', 'Male'}\n"
     ]
    }
   ],
   "source": [
    "\n",
    "#let us check how many unique categories are there in the gender property\n",
    "\n",
    "sex=set(df['sex'])\n",
    "print(sex)"
   ]
  },
  {
   "cell_type": "code",
   "execution_count": 16,
   "id": "c4ee33c6",
   "metadata": {},
   "outputs": [],
   "source": [
    "#mapping the values to numerical values\n",
    "df['sex']=df['sex'].map({\"Male\":0,'Female':1}).astype(int)\n"
   ]
  },
  {
   "cell_type": "code",
   "execution_count": 17,
   "id": "f5d3ed2b",
   "metadata": {},
   "outputs": [
    {
     "name": "stdout",
     "output_type": "stream",
     "text": [
      "{'Prof', 'AssocProf', 'AsstProf'}\n"
     ]
    }
   ],
   "source": [
    "#let us check how many unique categories are there in the rank property\n",
    "\n",
    "rank=set(df['rank'])\n",
    "print(rank)\n",
    "\n"
   ]
  },
  {
   "cell_type": "code",
   "execution_count": 18,
   "id": "8b362cb8",
   "metadata": {},
   "outputs": [],
   "source": [
    "#mapping the values to numberical values\n",
    "\n",
    "df['rank']=df['rank'].map({\"AsstProf\":0,'Prof':1,'AssocProf':2}).astype(int)\n"
   ]
  },
  {
   "cell_type": "code",
   "execution_count": 19,
   "id": "e066afd8",
   "metadata": {},
   "outputs": [
    {
     "name": "stdout",
     "output_type": "stream",
     "text": [
      "{'A', 'B'}\n"
     ]
    }
   ],
   "source": [
    "#let us check how many unique category are there in the discipline property\n",
    "discipline=set(df['discipline'])\n",
    "print(discipline)"
   ]
  },
  {
   "cell_type": "code",
   "execution_count": 20,
   "id": "58784aeb",
   "metadata": {},
   "outputs": [],
   "source": [
    "#mapping the values to numerical values\n",
    "#df['discipline']=df['discipline'].map({'A':0,'B':1}).astype(int)\n"
   ]
  },
  {
   "cell_type": "code",
   "execution_count": 21,
   "id": "a032ae5a",
   "metadata": {},
   "outputs": [
    {
     "data": {
      "text/html": [
       "<div>\n",
       "<style scoped>\n",
       "    .dataframe tbody tr th:only-of-type {\n",
       "        vertical-align: middle;\n",
       "    }\n",
       "\n",
       "    .dataframe tbody tr th {\n",
       "        vertical-align: top;\n",
       "    }\n",
       "\n",
       "    .dataframe thead th {\n",
       "        text-align: right;\n",
       "    }\n",
       "</style>\n",
       "<table border=\"1\" class=\"dataframe\">\n",
       "  <thead>\n",
       "    <tr style=\"text-align: right;\">\n",
       "      <th></th>\n",
       "      <th>rank</th>\n",
       "      <th>discipline</th>\n",
       "      <th>yrs since phd</th>\n",
       "      <th>yrs service</th>\n",
       "      <th>sex</th>\n",
       "      <th>salary</th>\n",
       "    </tr>\n",
       "  </thead>\n",
       "  <tbody>\n",
       "    <tr>\n",
       "      <th>0</th>\n",
       "      <td>1</td>\n",
       "      <td>B</td>\n",
       "      <td>19</td>\n",
       "      <td>18</td>\n",
       "      <td>0</td>\n",
       "      <td>139750</td>\n",
       "    </tr>\n",
       "    <tr>\n",
       "      <th>1</th>\n",
       "      <td>1</td>\n",
       "      <td>B</td>\n",
       "      <td>20</td>\n",
       "      <td>16</td>\n",
       "      <td>0</td>\n",
       "      <td>173200</td>\n",
       "    </tr>\n",
       "    <tr>\n",
       "      <th>2</th>\n",
       "      <td>0</td>\n",
       "      <td>B</td>\n",
       "      <td>4</td>\n",
       "      <td>3</td>\n",
       "      <td>0</td>\n",
       "      <td>79750</td>\n",
       "    </tr>\n",
       "    <tr>\n",
       "      <th>3</th>\n",
       "      <td>1</td>\n",
       "      <td>B</td>\n",
       "      <td>45</td>\n",
       "      <td>39</td>\n",
       "      <td>0</td>\n",
       "      <td>115000</td>\n",
       "    </tr>\n",
       "    <tr>\n",
       "      <th>4</th>\n",
       "      <td>1</td>\n",
       "      <td>B</td>\n",
       "      <td>40</td>\n",
       "      <td>41</td>\n",
       "      <td>0</td>\n",
       "      <td>141500</td>\n",
       "    </tr>\n",
       "    <tr>\n",
       "      <th>5</th>\n",
       "      <td>2</td>\n",
       "      <td>B</td>\n",
       "      <td>6</td>\n",
       "      <td>6</td>\n",
       "      <td>0</td>\n",
       "      <td>97000</td>\n",
       "    </tr>\n",
       "    <tr>\n",
       "      <th>6</th>\n",
       "      <td>1</td>\n",
       "      <td>B</td>\n",
       "      <td>30</td>\n",
       "      <td>23</td>\n",
       "      <td>0</td>\n",
       "      <td>175000</td>\n",
       "    </tr>\n",
       "    <tr>\n",
       "      <th>7</th>\n",
       "      <td>1</td>\n",
       "      <td>B</td>\n",
       "      <td>45</td>\n",
       "      <td>45</td>\n",
       "      <td>0</td>\n",
       "      <td>147765</td>\n",
       "    </tr>\n",
       "    <tr>\n",
       "      <th>8</th>\n",
       "      <td>1</td>\n",
       "      <td>B</td>\n",
       "      <td>21</td>\n",
       "      <td>20</td>\n",
       "      <td>0</td>\n",
       "      <td>119250</td>\n",
       "    </tr>\n",
       "    <tr>\n",
       "      <th>9</th>\n",
       "      <td>1</td>\n",
       "      <td>B</td>\n",
       "      <td>18</td>\n",
       "      <td>18</td>\n",
       "      <td>1</td>\n",
       "      <td>129000</td>\n",
       "    </tr>\n",
       "  </tbody>\n",
       "</table>\n",
       "</div>"
      ],
      "text/plain": [
       "   rank discipline  yrs since phd  yrs service  sex  salary\n",
       "0     1          B             19           18    0  139750\n",
       "1     1          B             20           16    0  173200\n",
       "2     0          B              4            3    0   79750\n",
       "3     1          B             45           39    0  115000\n",
       "4     1          B             40           41    0  141500\n",
       "5     2          B              6            6    0   97000\n",
       "6     1          B             30           23    0  175000\n",
       "7     1          B             45           45    0  147765\n",
       "8     1          B             21           20    0  119250\n",
       "9     1          B             18           18    1  129000"
      ]
     },
     "execution_count": 21,
     "metadata": {},
     "output_type": "execute_result"
    }
   ],
   "source": [
    "df.head(10)\n"
   ]
  },
  {
   "cell_type": "code",
   "execution_count": 22,
   "id": "e77f11f1",
   "metadata": {},
   "outputs": [
    {
     "data": {
      "text/plain": [
       "<AxesSubplot:xlabel='yrs since phd'>"
      ]
     },
     "execution_count": 22,
     "metadata": {},
     "output_type": "execute_result"
    },
    {
     "data": {
      "image/png": "[encoded data removed]",
      "text/plain": [
       "<Figure size 432x288 with 1 Axes>"
      ]
     },
     "metadata": {
      "needs_background": "light"
     },
     "output_type": "display_data"
    }
   ],
   "source": [
    "#plotting the bar graph for education against income to see the correlation between these two columns\n",
    "df.groupby('yrs since phd').salary.mean().plot(kind='bar')\n"
   ]
  },
  {
   "cell_type": "code",
   "execution_count": 23,
   "id": "b4f999de",
   "metadata": {},
   "outputs": [
    {
     "data": {
      "text/plain": [
       "<AxesSubplot:xlabel='rank'>"
      ]
     },
     "execution_count": 23,
     "metadata": {},
     "output_type": "execute_result"
    },
    {
     "data": {
      "image/png": "[encoded data removed]",
      "text/plain": [
       "<Figure size 432x288 with 1 Axes>"
      ]
     },
     "metadata": {
      "needs_background": "light"
     },
     "output_type": "display_data"
    }
   ],
   "source": [
    "#plotting the bar graph for rank against income to see the correlation between these two columns\n",
    "df.groupby('rank').salary.mean().plot(kind='bar')"
   ]
  },
  {
   "cell_type": "code",
   "execution_count": 24,
   "id": "1aa28b5f",
   "metadata": {},
   "outputs": [
    {
     "data": {
      "text/plain": [
       "<AxesSubplot:xlabel='sex'>"
      ]
     },
     "execution_count": 24,
     "metadata": {},
     "output_type": "execute_result"
    },
    {
     "data": {
      "image/png": "[encoded data removed]",
      "text/plain": [
       "<Figure size 432x288 with 1 Axes>"
      ]
     },
     "metadata": {
      "needs_background": "light"
     },
     "output_type": "display_data"
    }
   ],
   "source": [
    "#plotting the bar graph for sex against income to see the correlation between these two columns\n",
    "df.groupby('sex').salary.mean().plot(kind='bar')"
   ]
  },
  {
   "cell_type": "code",
   "execution_count": 25,
   "id": "9ba75e89",
   "metadata": {},
   "outputs": [
    {
     "data": {
      "text/plain": [
       "<AxesSubplot:xlabel='discipline'>"
      ]
     },
     "execution_count": 25,
     "metadata": {},
     "output_type": "execute_result"
    },
    {
     "data": {
      "image/png": "[encoded data removed]",
      "text/plain": [
       "<Figure size 432x288 with 1 Axes>"
      ]
     },
     "metadata": {
      "needs_background": "light"
     },
     "output_type": "display_data"
    }
   ],
   "source": [
    "#plotting the bar graph for education against income to see the correlation between these two columns\n",
    "df.groupby('discipline').salary.mean().plot(kind='bar')"
   ]
  },
  {
   "cell_type": "code",
   "execution_count": 26,
   "id": "df4264a2",
   "metadata": {},
   "outputs": [
    {
     "data": {
      "text/plain": [
       "<AxesSubplot:xlabel='yrs service'>"
      ]
     },
     "execution_count": 26,
     "metadata": {},
     "output_type": "execute_result"
    },
    {
     "data": {
      "image/png": "[encoded data removed]",
      "text/plain": [
       "<Figure size 432x288 with 1 Axes>"
      ]
     },
     "metadata": {
      "needs_background": "light"
     },
     "output_type": "display_data"
    }
   ],
   "source": [
    "#plotting the bar graph for education against income to see the correlation between these two columns\n",
    "df.groupby('yrs service').salary.mean().plot(kind='bar')"
   ]
  },
  {
   "cell_type": "code",
   "execution_count": 27,
   "id": "898f36e1",
   "metadata": {},
   "outputs": [],
   "source": [
    "#use the heatmap function from seaborn to plot the correlation matrix\n",
    "\n",
    "#corrmat = df.corr()\n",
    "#f, ax = plt.subplots(figsize=(12,9))\n",
    "#k = 6 \n",
    "#cols = corrmat.nlargest(k, 'salary')['salary'].index\n",
    "#cm=np.corrcoef(df[cols].values.T)\n",
    "#sns.set(font_scale=1.25)\n",
    "#hm=sns.heatmap(cm, cbar=True, annot=True, square=True, fmt='.2f', annot_kws={'size':10}, yticklabels=cols.values, xtickvalues=cols.values)\n",
    "#plt.show()"
   ]
  },
  {
   "cell_type": "code",
   "execution_count": 28,
   "id": "af8de620",
   "metadata": {},
   "outputs": [],
   "source": [
    "\n",
    "\n",
    "X=pd.DataFrame(np.c_[df['yrs since phd'],df['yrs service'],df['sex']],columns=\n",
    "                  ['yrs since phd','yrs service','sex'])"
   ]
  },
  {
   "cell_type": "code",
   "execution_count": 29,
   "id": "43ad5c5a",
   "metadata": {},
   "outputs": [],
   "source": [
    "Y=pd.DataFrame(df.salary)"
   ]
  },
  {
   "cell_type": "code",
   "execution_count": 30,
   "id": "6d530113",
   "metadata": {},
   "outputs": [],
   "source": [
    "#splitting data into 80% for training set and 20% for testing set so that we can set our accuracy\n",
    "X_train,x_test,Y_train, y_test =train_test_split(X,Y,test_size=0.5,random_state=0)\n",
    "\n"
   ]
  },
  {
   "cell_type": "code",
   "execution_count": 31,
   "id": "abf50a42",
   "metadata": {},
   "outputs": [],
   "source": [
    "# Importing C-Support Vector Classification from scikit-learn\n",
    "from sklearn.svm import SVC\n",
    "\n",
    "# Declaring the SVC with no tunning\n",
    "classifier = SVC()\n",
    "\n",
    "# Fitting the data. This is where the SVM will learn\n",
    "classifier.fit(X_train, Y_train)\n",
    "\n",
    "# Predicting the result and giving the accuracy\n",
    "score = classifier.score(x_test, y_test)\n",
    "\n",
    "\n"
   ]
  },
  {
   "cell_type": "code",
   "execution_count": 32,
   "id": "b3567c4a",
   "metadata": {},
   "outputs": [
    {
     "name": "stdout",
     "output_type": "stream",
     "text": [
      "0.01507537688442211\n"
     ]
    }
   ],
   "source": [
    "print(score)"
   ]
  },
  {
   "cell_type": "code",
   "execution_count": 33,
   "id": "348dfaf1",
   "metadata": {},
   "outputs": [],
   "source": [
    "#correlation matrix\n",
    "corrmat = df.corr()"
   ]
  },
  {
   "cell_type": "code",
   "execution_count": 34,
   "id": "879d8789",
   "metadata": {},
   "outputs": [
    {
     "data": {
      "image/png": "[encoded data removed]",
      "text/plain": [
       "<Figure size 864x648 with 2 Axes>"
      ]
     },
     "metadata": {
      "needs_background": "light"
     },
     "output_type": "display_data"
    }
   ],
   "source": [
    "f, ax = plt.subplots(figsize=(12,9))\n",
    "sns.heatmap(corrmat, vmax=8, square=True);"
   ]
  },
  {
   "cell_type": "code",
   "execution_count": 35,
   "id": "925db639",
   "metadata": {},
   "outputs": [
    {
     "data": {
      "image/png": "[encoded data removed]",
      "text/plain": [
       "<Figure size 432x288 with 2 Axes>"
      ]
     },
     "metadata": {},
     "output_type": "display_data"
    }
   ],
   "source": [
    "k=6 #number of variables for heatmap\n",
    "cols = corrmat.nlargest(k, 'salary')['salary'].index\n",
    "cm = np.corrcoef(df[cols].values.T)\n",
    "sns.set(font_scale=1.25)\n",
    "hm = sns.heatmap(cm, cbar=True, annot=True, square=True, fmt='.2f', annot_kws={'size': 10}, yticklabels=cols.values, xticklabels=cols.values)\n",
    "plt.show()"
   ]
  },
  {
   "cell_type": "code",
   "execution_count": null,
   "id": "7e8766b3",
   "metadata": {},
   "outputs": [],
   "source": []
  }
 ],
 "metadata": {
  "kernelspec": {
   "display_name": "Python 3",
   "language": "python",
   "name": "python3"
  },
  "language_info": {
   "codemirror_mode": {
    "name": "ipython",
    "version": 3
   },
   "file_extension": ".py",
   "mimetype": "text/x-python",
   "name": "python",
   "nbconvert_exporter": "python",
   "pygments_lexer": "ipython3",
   "version": "3.8.8"
  }
 },
 "nbformat": 4,
 "nbformat_minor": 5
}
